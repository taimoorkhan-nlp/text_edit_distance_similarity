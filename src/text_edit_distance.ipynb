{
 "cells": [
  {
   "cell_type": "markdown",
   "metadata": {},
   "source": [
    "# Edit distance \n",
    "\n",
    "To determine how similar or dissimilar two text  samples are. It quantifies the distance as a numeric value computed through the number of minimum possible operations required to reach from source text (or simply text1) to target text (or simply text 2). This operation can be performed at both word and character level. Following are the three different implementations of edit distance where the difference is the type of operations allowed and their costs."
   ]
  },
  {
   "cell_type": "markdown",
   "metadata": {},
   "source": [
    "The method does not use any packages other than basic `random` and `string` packages to implement. The environment random seed is preserved for reproducibility"
   ]
  },
  {
   "cell_type": "code",
   "execution_count": 2,
   "metadata": {},
   "outputs": [],
   "source": [
    "from utils import (simple_edit_distance,\n",
    "            levenshtein_edit_distance, damerau_levenshtein_distance)"
   ]
  },
  {
   "cell_type": "markdown",
   "metadata": {},
   "source": [
    "Here we can take any two text samples on which the methods can be called. For example, we consider toxic social media post and its detoxified version."
   ]
  },
  {
   "cell_type": "markdown",
   "metadata": {},
   "source": [
    "The method offers three variants of edit distance \n",
    "- Simple edit distance\n",
    "- Levenshtein edit distance\n",
    "- Damerau Levenshtein edit distance\n",
    "\n",
    "The method can be applied to the text pairs in 2 levels\n",
    "- At word level\n",
    "- At character level\n"
   ]
  },
  {
   "cell_type": "code",
   "execution_count": 49,
   "metadata": {},
   "outputs": [],
   "source": [
    "import csv\n",
    "\n",
    "def _pair_texts(pairs, method, level):\n",
    "    dist = []\n",
    "    for t1, t2 in pairs:\n",
    "        if method in ('simple', 'all'):\n",
    "            dist_s = simple_edit_distance(t1, t2, level=level)\n",
    "        if method in ('levenshtein', 'all'):\n",
    "            dist_l = levenshtein_edit_distance(t1, t2, level=level)\n",
    "        if method in ('damerau', 'all'):\n",
    "            dist_d = damerau_levenshtein_distance(t1, t2, level=level)\n",
    "        dist.append([t1, t2, dist_s, dist_l, dist_d])\n",
    "    return dist\n",
    "\n",
    "\n",
    "def batch_edit_distance(csv_path=None, texts=None, method='all', level='w'):\n",
    "    \"\"\"\n",
    "    Calculate edit distances for text pairs from a CSV file or a list of texts.\n",
    "    \n",
    "    Args:\n",
    "        csv_path (str, optional): Path to the CSV file. If not provided, 'texts' must be given.\n",
    "        texts (list, optional): List of texts to compare. Used if csv_path is not provided.\n",
    "        method (str): 'simple', 'levenshtein', 'damerau', or 'all' (default).\n",
    "        level (str): 'c' for character, 'w' for word (default 'c').\n",
    "        \n",
    "    Returns:\n",
    "        results (list): List of tuples (text1, text2, {distance results})\n",
    "    \"\"\"\n",
    "    # Load texts from CSV if path is given\n",
    "        # Process pairs\n",
    "\n",
    "    try:\n",
    "        with open(csv_path, newline='', encoding='utf-8') as f:\n",
    "            reader = csv.reader(f)\n",
    "            rows = list(reader)\n",
    "        # Flatten if single column, else treat as pairs\n",
    "        if len(rows[0]) == 1:\n",
    "            texts = [row[0] for row in rows]\n",
    "            pairs_csv = [(texts[i], texts[j]) for i in range(len(texts)) for j in range(i+1, len(texts))]\n",
    "        else:\n",
    "            pairs_csv = [(row[0], row[1]) for row in rows]\n",
    "        outputs = _pair_texts(pairs_csv, method, level)\n",
    "    except (FileNotFoundError, ValueError):\n",
    "        raise FileNotFoundError(f\"CSV file not found or invalid format: {csv_path}\") \n",
    "    return outputs\n",
    "    \n",
    "# Example usage:\n",
    "results = batch_edit_distance(csv_path='../data/input_text_pairs.csv', method='all', level='c')\n",
    "\n",
    "outputfile_path = '../data/output_scores.csv'\n",
    "\n",
    "with open(outputfile_path, 'w', newline='') as f:\n",
    "    writer = csv.writer(f)\n",
    "    writer.writerow(['Text1', 'Text2', 'Simple', 'Levenshtein', 'Damerau-Levenshtein'])     # Write header\n",
    "    writer.writerows(results) "
   ]
  },
  {
   "cell_type": "code",
   "execution_count": null,
   "metadata": {},
   "outputs": [],
   "source": []
  }
 ],
 "metadata": {
  "kernelspec": {
   "display_name": "Python 3 (ipykernel)",
   "language": "python",
   "name": "python3"
  },
  "language_info": {
   "codemirror_mode": {
    "name": "ipython",
    "version": 3
   },
   "file_extension": ".py",
   "mimetype": "text/x-python",
   "name": "python",
   "nbconvert_exporter": "python",
   "pygments_lexer": "ipython3",
   "version": "3.12.7"
  }
 },
 "nbformat": 4,
 "nbformat_minor": 4
}
